{
 "cells": [
  {
   "cell_type": "code",
   "execution_count": 138,
   "metadata": {},
   "outputs": [],
   "source": [
    "import numpy as np\n",
    "import pandas as pd\n",
    "from scipy.spatial import distance\n",
    "import os"
   ]
  },
  {
   "cell_type": "code",
   "execution_count": 79,
   "metadata": {},
   "outputs": [],
   "source": [
    "# Import data\n",
    "\n",
    "filename_1 = \"pre_outdoor_embedding.csv \"\n",
    "filename_2 = \"pre_outdoor_mfcc.csv \"\n",
    "filename_3 = \"pre_TV_embedding.csv\"\n",
    "filename_4 = \"pre_TV_mfcc.csv\"\n",
    "data_1 = np.array(pd.read_csv(filename_1, header = None))\n",
    "data_2 = np.array(pd.read_csv(filename_2, header = None))\n",
    "data_3 = np.array(pd.read_csv(filename_3, header = None))\n",
    "data_4 = np.array(pd.read_csv(filename_4, header = None))\n",
    "X_1 = data_1[:, :-1]\n",
    "Y_1 = data_1[:, -1]\n",
    "X_2 = data_2[:, :-1]\n",
    "Y_2 = data_2[:, -1]\n",
    "X_3 = data_3[:, :-1]\n",
    "Y_3 = data_3[:, -1]\n",
    "X_4 = data_4[:, :-1]\n",
    "Y_4 = data_4[:, -1]\n"
   ]
  },
  {
   "cell_type": "code",
   "execution_count": 139,
   "metadata": {},
   "outputs": [],
   "source": [
    "# Import data\n",
    "\n",
    "filename_1 = \"CountSpeaker/e_7.csv\"\n",
    "filename_2 = \"CountSpeaker/e_8_1.csv\"\n",
    "filename_3 = \"CountSpeaker/e_8_2.csv\"\n",
    "filename_4 = \"CountSpeaker/e_8_3.csv\"\n",
    "data_1 = np.array(pd.read_csv(filename_1, header = None))\n",
    "data_2 = np.array(pd.read_csv(filename_2, header = None))\n",
    "data_3 = np.array(pd.read_csv(filename_3, header = None))\n",
    "data_4 = np.array(pd.read_csv(filename_4, header = None))\n",
    "\n",
    "np.random.shuffle(data_1)\n",
    "np.random.shuffle(data_2)\n",
    "np.random.shuffle(data_3)\n",
    "np.random.shuffle(data_4)\n",
    "\n",
    "X_1 = data_1[:, :-1]\n",
    "Y_1 = data_1[:, -1]\n",
    "X_2 = data_2[:, :-1]\n",
    "Y_2 = data_2[:, -1]\n",
    "X_3 = data_3[:, :-1]\n",
    "Y_3 = data_3[:, -1]\n",
    "X_4 = data_4[:, :-1]\n",
    "Y_4 = data_4[:, -1]\n",
    "\n",
    "filename_5 = \"CountSpeaker/m_7.csv\"\n",
    "filename_6 = \"CountSpeaker/m_8_1.csv\"\n",
    "filename_7 = \"CountSpeaker/m_8_2.csv\"\n",
    "filename_8 = \"CountSpeaker/m_8_3.csv\"\n",
    "data_5 = np.array(pd.read_csv(filename_5, header = None))\n",
    "data_6 = np.array(pd.read_csv(filename_6, header = None))\n",
    "data_7 = np.array(pd.read_csv(filename_7, header = None))\n",
    "data_8 = np.array(pd.read_csv(filename_8, header = None))\n",
    "\n",
    "np.random.shuffle(data_5)\n",
    "np.random.shuffle(data_6)\n",
    "np.random.shuffle(data_7)\n",
    "np.random.shuffle(data_8)\n",
    "\n",
    "X_5 = data_5[:, :-1]\n",
    "Y_5 = data_5[:, -1]\n",
    "X_6 = data_6[:, :-1]\n",
    "Y_6 = data_6[:, -1]\n",
    "X_7 = data_7[:, :-1]\n",
    "Y_7 = data_7[:, -1]\n",
    "X_8 = data_8[:, :-1]\n",
    "Y_8 = data_8[:, -1]"
   ]
  },
  {
   "cell_type": "code",
   "execution_count": 140,
   "metadata": {},
   "outputs": [],
   "source": [
    "# Data Smoothness\n",
    "\n",
    "def data_smooth(X, win_size):\n",
    "    output = np.array([np.mean(X[k:k+win_size], axis = 0) for k in range(X.shape[0]-(win_size-1))])\n",
    "    return output\n"
   ]
  },
  {
   "cell_type": "code",
   "execution_count": 141,
   "metadata": {},
   "outputs": [],
   "source": [
    "def getDistance(seg_1, seg_2):\n",
    "#    return np.linalg.norm((seg_1 - seg_2), ord = 1)\n",
    "    return scipy.spatial.distance.cosine(seg_1, seg_2)\n",
    "    \n",
    "def unsupervisedalgo(mfcc, Constants_mfcc_dist_diff_un):\n",
    "\n",
    "    new_mfcc = np.zeros((mfcc.shape[0], mfcc.shape[1]))\n",
    "    new_in_count = np.zeros((mfcc.shape[0], ))\n",
    "    new_mfcc[0, :] = mfcc[0, :]\n",
    "    speaker_count = 1\n",
    "    new_in_count[0] = 1\n",
    "\n",
    "    for i in range(1, mfcc.shape[0], 1):\n",
    "        diff_count = 0\n",
    "        for j in range(speaker_count):\n",
    "            mfcc_dist = getDistance(mfcc[i], new_mfcc[j])\n",
    "            if (mfcc_dist >= Constants_mfcc_dist_diff_un): \n",
    "                diff_count = diff_count + 1;\n",
    "            else:\n",
    "                new_mfcc[j] = (new_mfcc[j]*new_in_count[j]+mfcc[i])/(new_in_count[j]+1)\n",
    "                new_in_count[j] += 1\n",
    "                break\n",
    "        if (diff_count == speaker_count):\n",
    "            new_mfcc[speaker_count, :] = mfcc[i, :]\n",
    "            new_in_count[speaker_count] += 1\n",
    "            speaker_count = speaker_count + 1\n",
    "    return speaker_count, new_in_count\n",
    "\n",
    "def speakercount(X, threshold):\n",
    "    return len(np.where(X>threshold)[0])"
   ]
  },
  {
   "cell_type": "code",
   "execution_count": 145,
   "metadata": {},
   "outputs": [],
   "source": [
    "\n",
    "count_e_7 = unsupervisedalgo(X_1, 0.25)\n",
    "count_e_8_1 = unsupervisedalgo(X_2, 0.25)\n",
    "count_e_8_2 = unsupervisedalgo(X_3, 0.25)\n",
    "count_e_8_3 = unsupervisedalgo(X_4, 0.25)\n",
    "\n",
    "count_m_7 = unsupervisedalgo(X_5, 0.01)\n",
    "count_m_8_1 = unsupervisedalgo(X_6, 0.01)\n",
    "count_m_8_2 = unsupervisedalgo(X_7, 0.01)\n",
    "count_m_8_3 = unsupervisedalgo(X_8, 0.01)\n",
    "\n",
    "count_e_7_s = unsupervisedalgo(data_smooth(X_1, 2), 0.25)\n",
    "count_e_8_1_s = unsupervisedalgo(data_smooth(X_2, 2), 0.25)\n",
    "count_e_8_2_s = unsupervisedalgo(data_smooth(X_3, 2), 0.25)\n",
    "count_e_8_3_s = unsupervisedalgo(data_smooth(X_4, 2), 0.25)\n",
    "\n",
    "count_m_7_s = unsupervisedalgo(data_smooth(X_5, 2), 0.01)\n",
    "count_m_8_1_s = unsupervisedalgo(data_smooth(X_6, 2), 0.01)\n",
    "count_m_8_2_s = unsupervisedalgo(data_smooth(X_7, 2), 0.01)\n",
    "count_m_8_3_s = unsupervisedalgo(data_smooth(X_8, 2), 0.01)\n"
   ]
  },
  {
   "cell_type": "code",
   "execution_count": 146,
   "metadata": {},
   "outputs": [
    {
     "name": "stdout",
     "output_type": "stream",
     "text": [
      "Speaker number: 8\n",
      "Speaker number(smooth): 7\n",
      "Speaker number: 1\n",
      "Speaker number(smooth): 2\n",
      "Speaker number: 3\n",
      "Speaker number(smooth): 5\n",
      "Speaker number: 2\n",
      "Speaker number(smooth): 7\n"
     ]
    },
    {
     "data": {
      "image/png": "[encoded data removed]",
      "text/plain": [
       "<Figure size 432x288 with 4 Axes>"
      ]
     },
     "metadata": {
      "needs_background": "light"
     },
     "output_type": "display_data"
    }
   ],
   "source": [
    "\n",
    "import matplotlib.pyplot as plt\n",
    "import matplotlib\n",
    "\n",
    "fig, axs = plt.subplots(4)\n",
    "fig.suptitle('Number of speakers (embedding)')\n",
    "axs[0].plot(range(len(count_e_7[1])), count_e_7[1])\n",
    "axs[0].plot(range(len(count_e_7_s[1])), count_e_7_s[1], color = 'red')\n",
    "axs[1].plot(range(len(count_e_8_1[1])), count_e_8_1[1])\n",
    "axs[1].plot(range(len(count_e_8_1_s[1])), count_e_8_1_s[1], color = 'red')\n",
    "axs[2].plot(range(len(count_e_8_2[1])), count_e_8_2[1])\n",
    "axs[2].plot(range(len(count_e_8_2_s[1])), count_e_8_2_s[1], color = 'red')\n",
    "axs[3].plot(range(len(count_e_8_3[1])), count_e_8_3[1])\n",
    "axs[3].plot(range(len(count_e_8_3_s[1])), count_e_8_3_s[1], color = 'red')\n",
    "\n",
    "print(\"Speaker number:\", speakercount(count_e_7[1], 3))\n",
    "print(\"Speaker number(smooth):\", speakercount(count_e_7_s[1], 3))\n",
    "print(\"Speaker number:\", speakercount(count_e_8_1[1], 3))\n",
    "print(\"Speaker number(smooth):\", speakercount(count_e_8_1_s[1], 3))\n",
    "print(\"Speaker number:\", speakercount(count_e_8_2[1], 3))\n",
    "print(\"Speaker number(smooth):\", speakercount(count_e_8_2_s[1], 3))\n",
    "print(\"Speaker number:\", speakercount(count_e_8_3[1], 3))\n",
    "print(\"Speaker number(smooth):\", speakercount(count_e_8_3_s[1], 3))"
   ]
  },
  {
   "cell_type": "code",
   "execution_count": 147,
   "metadata": {},
   "outputs": [
    {
     "name": "stdout",
     "output_type": "stream",
     "text": [
      "Speaker number: 9\n",
      "Speaker number(smooth): 2\n",
      "Speaker number: 6\n",
      "Speaker number(smooth): 3\n",
      "Speaker number: 6\n",
      "Speaker number(smooth): 2\n",
      "Speaker number: 5\n",
      "Speaker number(smooth): 2\n"
     ]
    },
    {
     "data": {
      "image/png": "[encoded data removed]",
      "text/plain": [
       "<Figure size 432x288 with 4 Axes>"
      ]
     },
     "metadata": {
      "needs_background": "light"
     },
     "output_type": "display_data"
    }
   ],
   "source": [
    "fig, axs = plt.subplots(4)\n",
    "fig.suptitle('Number of speakers (mfcc)')\n",
    "axs[0].plot(range(len(count_m_7[1])), count_m_7[1])\n",
    "axs[0].plot(range(len(count_m_7_s[1])), count_m_7_s[1], color = 'red')\n",
    "axs[1].plot(range(len(count_m_8_1[1])), count_m_8_1[1])\n",
    "axs[1].plot(range(len(count_m_8_1_s[1])), count_m_8_1_s[1], color = 'red')\n",
    "axs[2].plot(range(len(count_m_8_2[1])), count_m_8_2[1])\n",
    "axs[2].plot(range(len(count_m_8_2_s[1])), count_m_8_2_s[1], color = 'red')\n",
    "axs[3].plot(range(len(count_m_8_3[1])), count_m_8_3[1])\n",
    "axs[3].plot(range(len(count_m_8_3_s[1])), count_m_8_3_s[1], color = 'red')\n",
    "\n",
    "print(\"Speaker number:\", speakercount(count_m_7[1], 3))\n",
    "print(\"Speaker number(smooth):\", speakercount(count_m_7_s[1], 3))\n",
    "print(\"Speaker number:\", speakercount(count_m_8_1[1], 3))\n",
    "print(\"Speaker number(smooth):\", speakercount(count_m_8_1_s[1], 3))\n",
    "print(\"Speaker number:\", speakercount(count_m_8_2[1], 3))\n",
    "print(\"Speaker number(smooth):\", speakercount(count_m_8_2_s[1], 3))\n",
    "print(\"Speaker number:\", speakercount(count_m_8_3[1], 3))\n",
    "print(\"Speaker number(smooth):\", speakercount(count_m_8_3_s[1], 3))"
   ]
  },
  {
   "cell_type": "code",
   "execution_count": null,
   "metadata": {},
   "outputs": [],
   "source": []
  }
 ],
 "metadata": {
  "kernelspec": {
   "display_name": "Python 3",
   "language": "python",
   "name": "python3"
  },
  "language_info": {
   "codemirror_mode": {
    "name": "ipython",
    "version": 3
   },
   "file_extension": ".py",
   "mimetype": "text/x-python",
   "name": "python",
   "nbconvert_exporter": "python",
   "pygments_lexer": "ipython3",
   "version": "3.7.1"
  }
 },
 "nbformat": 4,
 "nbformat_minor": 4
}
